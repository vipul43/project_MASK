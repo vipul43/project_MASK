{
  "nbformat": 4,
  "nbformat_minor": 0,
  "metadata": {
    "colab": {
      "name": "basic.ipynb",
      "provenance": [],
      "collapsed_sections": [],
      "include_colab_link": true
    },
    "kernelspec": {
      "name": "python3",
      "display_name": "Python 3"
    }
  },
  "cells": [
    {
      "cell_type": "markdown",
      "metadata": {
        "id": "view-in-github",
        "colab_type": "text"
      },
      "source": [
        "<a href=\"https://colab.research.google.com/github/vipul43/project_MASK/blob/main/basic.ipynb\" target=\"_parent\"><img src=\"https://colab.research.google.com/assets/colab-badge.svg\" alt=\"Open In Colab\"/></a>"
      ]
    },
    {
      "cell_type": "code",
      "metadata": {
        "id": "Hv-Nt1N5YOGC"
      },
      "source": [
        "# importing dataset from kaggle\n",
        "!pip install -q kaggle &> /dev/null\n",
        "!mkdir ~/.kaggle &> /dev/null\n",
        "!echo '{\"username\":\"saivipul\",\"key\":\"f4e9e153799bf7289426d9655d02fdca\"}' > ~/.kaggle/kaggle.json\n",
        "!chmod 600 ~/.kaggle/kaggle.json &> /dev/null\n",
        "# enter dataset API command below\n",
        "!kaggle datasets download -d ashishjangra27/face-mask-12k-images-dataset &> /dev/null\n",
        "!unzip face-mask-12k-images-dataset.zip &> /dev/null\n",
        "!rm -rf face-mask-12k-images-dataset.zip &> /dev/null\n",
        "\n",
        "# dataset is stored in 'Face Mask Dataset' folder"
      ],
      "execution_count": 19,
      "outputs": []
    },
    {
      "cell_type": "code",
      "metadata": {
        "id": "OdNqnIK5evdc"
      },
      "source": [
        "train_images_with_mask_path = '/content/Face Mask Dataset/Train/WithMask/'\n",
        "train_images_without_mask_path = '/content/Face Mask Dataset/Train/WithoutMask/'"
      ],
      "execution_count": 32,
      "outputs": []
    },
    {
      "cell_type": "code",
      "metadata": {
        "colab": {
          "base_uri": "https://localhost:8080/",
          "height": 168
        },
        "id": "GHY3n4gXe9bs",
        "outputId": "b634231b-7e10-4ad1-921a-2f7c876267be"
      },
      "source": [
        "# playing around with data\n",
        "import numpy as np\n",
        "from keras.preprocessing.image import load_img, img_to_array, array_to_img\n",
        "image = load_img(train_images_with_mask_path+'10'+'.png', color_mode=\"grayscale\", target_size=None, interpolation=\"nearest\")\n",
        "display(image)\n",
        "print(type(image))\n",
        "print(image.format)\n",
        "print(image.mode)\n",
        "print(image.size)"
      ],
      "execution_count": 79,
      "outputs": [
        {
          "output_type": "display_data",
          "data": {
            "image/png": "[encoded data removed]",
            "text/plain": [
              "<PIL.Image.Image image mode=L size=82x82 at 0x7FA5E0E7E5F8>"
            ]
          },
          "metadata": {
            "tags": []
          }
        },
        {
          "output_type": "stream",
          "text": [
            "<class 'PIL.Image.Image'>\n",
            "None\n",
            "L\n",
            "(82, 82)\n"
          ],
          "name": "stdout"
        }
      ]
    },
    {
      "cell_type": "code",
      "metadata": {
        "colab": {
          "base_uri": "https://localhost:8080/"
        },
        "id": "4EpwuTzrk1G0",
        "outputId": "61aa2127-b935-4ab5-cefe-02fee5a622a0"
      },
      "source": [
        "# converting image to vector\n",
        "image_vec = img_to_array(image)\n",
        "print(type(image_vec))\n",
        "print(image_vec.dtype)\n",
        "print(image_vec.shape)\n",
        "print(image_vec)"
      ],
      "execution_count": 80,
      "outputs": [
        {
          "output_type": "stream",
          "text": [
            "<class 'numpy.ndarray'>\n",
            "float32\n",
            "(82, 82, 1)\n",
            "[[[238.]\n",
            "  [238.]\n",
            "  [238.]\n",
            "  ...\n",
            "  [199.]\n",
            "  [200.]\n",
            "  [200.]]\n",
            "\n",
            " [[237.]\n",
            "  [238.]\n",
            "  [240.]\n",
            "  ...\n",
            "  [187.]\n",
            "  [194.]\n",
            "  [195.]]\n",
            "\n",
            " [[237.]\n",
            "  [238.]\n",
            "  [240.]\n",
            "  ...\n",
            "  [196.]\n",
            "  [193.]\n",
            "  [194.]]\n",
            "\n",
            " ...\n",
            "\n",
            " [[236.]\n",
            "  [235.]\n",
            "  [235.]\n",
            "  ...\n",
            "  [152.]\n",
            "  [151.]\n",
            "  [152.]]\n",
            "\n",
            " [[236.]\n",
            "  [236.]\n",
            "  [235.]\n",
            "  ...\n",
            "  [152.]\n",
            "  [151.]\n",
            "  [152.]]\n",
            "\n",
            " [[235.]\n",
            "  [235.]\n",
            "  [234.]\n",
            "  ...\n",
            "  [151.]\n",
            "  [151.]\n",
            "  [152.]]]\n"
          ],
          "name": "stdout"
        }
      ]
    },
    {
      "cell_type": "code",
      "metadata": {
        "colab": {
          "base_uri": "https://localhost:8080/"
        },
        "id": "NMp2c1jpnmag",
        "outputId": "55115c4a-7fc2-4abc-c50a-634ba109f570"
      },
      "source": [
        "# loading entire images dataset\n",
        "import tensorflow as tf\n",
        "train_dataset = tf.keras.preprocessing.image_dataset_from_directory(\n",
        "    '/content/Face Mask Dataset/Train',\n",
        "    labels=\"inferred\",\n",
        "    label_mode=\"binary\",\n",
        "    class_names=None,\n",
        "    color_mode=\"rgb\",\n",
        "    batch_size=32,\n",
        "    image_size=(256, 256),\n",
        "    shuffle=True,\n",
        "    seed=None,\n",
        "    validation_split=None,\n",
        "    subset=None,\n",
        "    interpolation=\"bilinear\",\n",
        "    follow_links=False,\n",
        ")\n",
        "print(type(train_dataset))"
      ],
      "execution_count": 83,
      "outputs": [
        {
          "output_type": "stream",
          "text": [
            "Found 10000 files belonging to 2 classes.\n",
            "<class 'tensorflow.python.data.ops.dataset_ops.BatchDataset'>\n"
          ],
          "name": "stdout"
        }
      ]
    },
    {
      "cell_type": "code",
      "metadata": {
        "id": "A0Bir2rLxxRx"
      },
      "source": [
        ""
      ],
      "execution_count": null,
      "outputs": []
    }
  ]
}