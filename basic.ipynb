{
  "nbformat": 4,
  "nbformat_minor": 0,
  "metadata": {
    "colab": {
      "name": "Copy of basic.ipynb",
      "provenance": [],
      "collapsed_sections": [],
      "include_colab_link": true
    },
    "kernelspec": {
      "name": "python3",
      "display_name": "Python 3"
    }
  },
  "cells": [
    {
      "cell_type": "markdown",
      "metadata": {
        "id": "view-in-github",
        "colab_type": "text"
      },
      "source": [
        "<a href=\"https://colab.research.google.com/github/vipul43/project_MASK/blob/main/basic.ipynb\" target=\"_parent\"><img src=\"https://colab.research.google.com/assets/colab-badge.svg\" alt=\"Open In Colab\"/></a>"
      ]
    },
    {
      "cell_type": "code",
      "metadata": {
        "id": "Hv-Nt1N5YOGC"
      },
      "source": [
        "# importing dataset from kaggle\n",
        "!pip install -q kaggle &> /dev/null\n",
        "!mkdir ~/.kaggle &> /dev/null\n",
        "!echo '{\"username\":\"saivipul\",\"key\":\"f4e9e153799bf7289426d9655d02fdca\"}' > ~/.kaggle/kaggle.json\n",
        "!chmod 600 ~/.kaggle/kaggle.json &> /dev/null\n",
        "# enter dataset API command below\n",
        "!kaggle datasets download -d ashishjangra27/face-mask-12k-images-dataset &> /dev/null\n",
        "!unzip face-mask-12k-images-dataset.zip &> /dev/null\n",
        "!rm -rf face-mask-12k-images-dataset.zip &> /dev/null\n",
        "\n",
        "# dataset is stored in 'Face Mask Dataset' folder"
      ],
      "execution_count": 1,
      "outputs": []
    },
    {
      "cell_type": "code",
      "metadata": {
        "id": "OdNqnIK5evdc"
      },
      "source": [
        "# Paths\n",
        "# train images paths\n",
        "train_images_with_mask_path = '/content/Face Mask Dataset/Train/WithMask/'\n",
        "train_images_without_mask_path = '/content/Face Mask Dataset/Validation/WithoutMask/'\n",
        "# dev images paths\n",
        "dev_images_with_mask_path = '/content/Face Mask Dataset/Validation/WithMask/'\n",
        "dev_images_without_mask_path = '/content/Face Mask Dataset/Validation/WithoutMask/'\n",
        "# test images paths\n",
        "test_images_with_mask_path = '/content/Face Mask Dataset/Test/WithMask/'\n",
        "test_images_without_mask_path = '/content/Face Mask Dataset/Test/WithoutMask/'"
      ],
      "execution_count": 2,
      "outputs": []
    },
    {
      "cell_type": "code",
      "metadata": {
        "colab": {
          "base_uri": "https://localhost:8080/"
        },
        "id": "NMp2c1jpnmag",
        "outputId": "8eb26fb9-4d63-4e22-f2a4-5401024793de"
      },
      "source": [
        "# loading entire images dataset\n",
        "# label 0: WithMask\n",
        "# label 1: WithoutMask\n",
        "batch_size = 16\n",
        "\n",
        "import numpy as np\n",
        "from keras.preprocessing.image import load_img, img_to_array, array_to_img\n",
        "import tensorflow as tf\n",
        "\n",
        "# loading train images dataset\n",
        "train_dataset = tf.keras.preprocessing.image_dataset_from_directory(\n",
        "    '/content/Face Mask Dataset/Train',\n",
        "    labels=\"inferred\",\n",
        "    label_mode=\"binary\",\n",
        "    class_names=None,\n",
        "    color_mode=\"grayscale\",\n",
        "    batch_size=batch_size,\n",
        "    image_size=(64, 64),\n",
        "    shuffle=True,\n",
        "    seed=None,\n",
        "    validation_split=None,\n",
        "    subset=None,\n",
        "    interpolation=\"bilinear\",\n",
        "    follow_links=False,\n",
        ")\n",
        "print(type(train_dataset))\n",
        "\n",
        "# loading validation images dataset\n",
        "dev_dataset = tf.keras.preprocessing.image_dataset_from_directory(\n",
        "    '/content/Face Mask Dataset/Validation',\n",
        "    labels=\"inferred\",\n",
        "    label_mode=\"binary\",\n",
        "    class_names=None,\n",
        "    color_mode=\"grayscale\",\n",
        "    batch_size=batch_size,\n",
        "    image_size=(64, 64),\n",
        "    shuffle=True,\n",
        "    seed=None,\n",
        "    validation_split=None,\n",
        "    subset=None,\n",
        "    interpolation=\"bilinear\",\n",
        "    follow_links=False,\n",
        ")\n",
        "print(type(dev_dataset))\n",
        "\n",
        "# format of data in the dataset\n",
        "# for image, label in train_dataset:\n",
        "#   print(image)\n",
        "#   print(label)\n",
        "#   break"
      ],
      "execution_count": 3,
      "outputs": [
        {
          "output_type": "stream",
          "text": [
            "Found 10000 files belonging to 2 classes.\n",
            "<class 'tensorflow.python.data.ops.dataset_ops.BatchDataset'>\n",
            "Found 800 files belonging to 2 classes.\n",
            "<class 'tensorflow.python.data.ops.dataset_ops.BatchDataset'>\n"
          ],
          "name": "stdout"
        }
      ]
    },
    {
      "cell_type": "code",
      "metadata": {
        "id": "65EJtO4vtIwD"
      },
      "source": [
        "# MODEL IS HERE!!!\n",
        "\n",
        "from keras import Input\n",
        "from keras.layers import Conv2D, Flatten, Dense\n",
        "from keras.models import Model\n",
        "from keras.utils import plot_model\n",
        "\n",
        "def make_model(input_shape):\n",
        "  inputs = Input(shape=input_shape)\n",
        "  x = Conv2D(\n",
        "      filters=4,\n",
        "      kernel_size=8,\n",
        "      strides=(1, 1),\n",
        "      padding=\"valid\",\n",
        "      data_format=None,\n",
        "      dilation_rate=(1, 1),\n",
        "      groups=1,\n",
        "      activation='relu',\n",
        "      use_bias=True,\n",
        "      kernel_initializer=\"glorot_uniform\",\n",
        "      bias_initializer=\"zeros\",\n",
        "      kernel_regularizer=None,\n",
        "      bias_regularizer=None,\n",
        "      activity_regularizer=None,\n",
        "      kernel_constraint=None,\n",
        "      bias_constraint=None,\n",
        "  )(inputs)\n",
        "  x = Flatten()(x)\n",
        "  x = Dense(\n",
        "      128,\n",
        "      activation='relu',\n",
        "      use_bias=True,\n",
        "      kernel_initializer=\"glorot_uniform\",\n",
        "      bias_initializer=\"zeros\",\n",
        "      kernel_regularizer=None,\n",
        "      bias_regularizer=None,\n",
        "      activity_regularizer=None,\n",
        "      kernel_constraint=None,\n",
        "      bias_constraint=None,\n",
        "  )(x)\n",
        "  outputs = Dense(\n",
        "      1,\n",
        "      activation='sigmoid',\n",
        "      use_bias=True,\n",
        "      kernel_initializer=\"glorot_uniform\",\n",
        "      bias_initializer=\"zeros\",\n",
        "      kernel_regularizer=None,\n",
        "      bias_regularizer=None,\n",
        "      activity_regularizer=None,\n",
        "      kernel_constraint=None,\n",
        "      bias_constraint=None,\n",
        "  )(x)\n",
        "\n",
        "  model = Model(inputs=inputs, outputs=outputs)\n",
        "  model.summary()\n",
        "  plot_model(model, to_file='model_basic_with_updated_conv_and_dense_layers.png')\n",
        "  return model"
      ],
      "execution_count": 4,
      "outputs": []
    },
    {
      "cell_type": "code",
      "metadata": {
        "id": "ScLL8ySnCW2q",
        "colab": {
          "base_uri": "https://localhost:8080/"
        },
        "outputId": "5bd2d8a7-3760-4f16-f7db-088c94b5caa5"
      },
      "source": [
        "# Getting model and training\n",
        "import keras.backend as K\n",
        "\n",
        "model = make_model((64, 64, 1))\n",
        "model.compile(loss='binary_crossentropy', optimizer='adam', metrics=['accuracy'])\n",
        "K.set_value(model.optimizer.lr, 0.001) # tweaking hyperparameter\n",
        "model.fit(train_dataset, epochs=10, steps_per_epoch=len(train_dataset), verbose=1)"
      ],
      "execution_count": 5,
      "outputs": [
        {
          "output_type": "stream",
          "text": [
            "Model: \"model\"\n",
            "_________________________________________________________________\n",
            "Layer (type)                 Output Shape              Param #   \n",
            "=================================================================\n",
            "input_1 (InputLayer)         [(None, 64, 64, 1)]       0         \n",
            "_________________________________________________________________\n",
            "conv2d (Conv2D)              (None, 57, 57, 4)         260       \n",
            "_________________________________________________________________\n",
            "flatten (Flatten)            (None, 12996)             0         \n",
            "_________________________________________________________________\n",
            "dense (Dense)                (None, 128)               1663616   \n",
            "_________________________________________________________________\n",
            "dense_1 (Dense)              (None, 1)                 129       \n",
            "=================================================================\n",
            "Total params: 1,664,005\n",
            "Trainable params: 1,664,005\n",
            "Non-trainable params: 0\n",
            "_________________________________________________________________\n",
            "Epoch 1/10\n",
            "625/625 [==============================] - 42s 65ms/step - loss: 30.0952 - accuracy: 0.7508\n",
            "Epoch 2/10\n",
            "625/625 [==============================] - 41s 66ms/step - loss: 0.2535 - accuracy: 0.9217\n",
            "Epoch 3/10\n",
            "625/625 [==============================] - 41s 65ms/step - loss: 0.0950 - accuracy: 0.9653\n",
            "Epoch 4/10\n",
            "625/625 [==============================] - 41s 65ms/step - loss: 0.0597 - accuracy: 0.9820\n",
            "Epoch 5/10\n",
            "625/625 [==============================] - 41s 65ms/step - loss: 0.0499 - accuracy: 0.9830\n",
            "Epoch 6/10\n",
            "625/625 [==============================] - 41s 65ms/step - loss: 0.1056 - accuracy: 0.9721\n",
            "Epoch 7/10\n",
            "625/625 [==============================] - 40s 64ms/step - loss: 0.0547 - accuracy: 0.9842\n",
            "Epoch 8/10\n",
            "625/625 [==============================] - 41s 65ms/step - loss: 0.0810 - accuracy: 0.9760\n",
            "Epoch 9/10\n",
            "625/625 [==============================] - 41s 65ms/step - loss: 0.0198 - accuracy: 0.9934\n",
            "Epoch 10/10\n",
            "625/625 [==============================] - 43s 68ms/step - loss: 0.0553 - accuracy: 0.9801\n"
          ],
          "name": "stdout"
        },
        {
          "output_type": "execute_result",
          "data": {
            "text/plain": [
              "<tensorflow.python.keras.callbacks.History at 0x7f9976caffd0>"
            ]
          },
          "metadata": {
            "tags": []
          },
          "execution_count": 5
        }
      ]
    },
    {
      "cell_type": "code",
      "metadata": {
        "id": "Xa5wmDehPYKj",
        "outputId": "342e1038-3369-4776-d4a3-cecb2feee6ca",
        "colab": {
          "base_uri": "https://localhost:8080/"
        }
      },
      "source": [
        "# Making predictions - all at a time\n",
        "# More accurate metrics - error\n",
        "\n",
        "def getError(model):\n",
        "  error = 0\n",
        "  for image, label in dev_dataset:\n",
        "    prediction = model.predict(image, verbose=0)\n",
        "    for i in range(len(prediction)):\n",
        "      if(label[i]!=prediction[i]):\n",
        "        error+=1\n",
        "  error/=(len(dev_dataset)*batch_size)\n",
        "  return (error)\n",
        "\n",
        "getError(model)"
      ],
      "execution_count": 9,
      "outputs": [
        {
          "output_type": "execute_result",
          "data": {
            "text/plain": [
              "0.97875"
            ]
          },
          "metadata": {
            "tags": []
          },
          "execution_count": 9
        }
      ]
    },
    {
      "cell_type": "code",
      "metadata": {
        "id": "T2Q9BNucxsA6"
      },
      "source": [
        ""
      ],
      "execution_count": null,
      "outputs": []
    }
  ]
}