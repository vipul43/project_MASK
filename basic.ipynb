{
  "nbformat": 4,
  "nbformat_minor": 0,
  "metadata": {
    "colab": {
      "name": "basic.ipynb",
      "provenance": [],
      "collapsed_sections": [],
      "include_colab_link": true
    },
    "kernelspec": {
      "name": "python3",
      "display_name": "Python 3"
    }
  },
  "cells": [
    {
      "cell_type": "markdown",
      "metadata": {
        "id": "view-in-github",
        "colab_type": "text"
      },
      "source": [
        "<a href=\"https://colab.research.google.com/github/vipul43/project_MASK/blob/main/basic.ipynb\" target=\"_parent\"><img src=\"https://colab.research.google.com/assets/colab-badge.svg\" alt=\"Open In Colab\"/></a>"
      ]
    },
    {
      "cell_type": "code",
      "metadata": {
        "id": "Hv-Nt1N5YOGC"
      },
      "source": [
        "# importing dataset from kaggle\n",
        "!pip install -q kaggle &> /dev/null\n",
        "!mkdir ~/.kaggle &> /dev/null\n",
        "!echo '{\"username\":\"saivipul\",\"key\":\"f4e9e153799bf7289426d9655d02fdca\"}' > ~/.kaggle/kaggle.json\n",
        "!chmod 600 ~/.kaggle/kaggle.json &> /dev/null\n",
        "# enter dataset API command below\n",
        "!kaggle datasets download -d ashishjangra27/face-mask-12k-images-dataset &> /dev/null\n",
        "!unzip face-mask-12k-images-dataset.zip &> /dev/null\n",
        "!rm -rf face-mask-12k-images-dataset.zip &> /dev/null\n",
        "\n",
        "# dataset is stored in 'Face Mask Dataset' folder"
      ],
      "execution_count": 1,
      "outputs": []
    },
    {
      "cell_type": "code",
      "metadata": {
        "id": "OdNqnIK5evdc"
      },
      "source": [
        "train_images_with_mask_path = '/content/Face Mask Dataset/Train/WithMask/'\n",
        "train_images_without_mask_path = '/content/Face Mask Dataset/Train/WithoutMask/'"
      ],
      "execution_count": 2,
      "outputs": []
    },
    {
      "cell_type": "code",
      "metadata": {
        "colab": {
          "base_uri": "https://localhost:8080/",
          "height": 168
        },
        "id": "GHY3n4gXe9bs",
        "outputId": "97b1f761-9b93-4b51-a8b9-9bc1393313ed"
      },
      "source": [
        "# playing around with data\n",
        "import numpy as np\n",
        "from keras.preprocessing.image import load_img, img_to_array, array_to_img\n",
        "image = load_img(train_images_with_mask_path+'10'+'.png', color_mode=\"grayscale\", target_size=None, interpolation=\"nearest\")\n",
        "display(image)\n",
        "print(type(image))\n",
        "print(image.format)\n",
        "print(image.mode)\n",
        "print(image.size)"
      ],
      "execution_count": 3,
      "outputs": [
        {
          "output_type": "display_data",
          "data": {
            "image/png": "[encoded data removed]",
            "text/plain": [
              "<PIL.Image.Image image mode=L size=82x82 at 0x7F5C9ECF3438>"
            ]
          },
          "metadata": {
            "tags": []
          }
        },
        {
          "output_type": "stream",
          "text": [
            "<class 'PIL.Image.Image'>\n",
            "None\n",
            "L\n",
            "(82, 82)\n"
          ],
          "name": "stdout"
        }
      ]
    },
    {
      "cell_type": "code",
      "metadata": {
        "colab": {
          "base_uri": "https://localhost:8080/"
        },
        "id": "4EpwuTzrk1G0",
        "outputId": "47eb2221-1904-438b-fe0b-290905bc9d79"
      },
      "source": [
        "# converting image to vector\n",
        "image_vec = img_to_array(image)\n",
        "print(type(image_vec))\n",
        "print(image_vec.dtype)\n",
        "print(image_vec.shape)\n",
        "print(image_vec)"
      ],
      "execution_count": 4,
      "outputs": [
        {
          "output_type": "stream",
          "text": [
            "<class 'numpy.ndarray'>\n",
            "float32\n",
            "(82, 82, 1)\n",
            "[[[238.]\n",
            "  [238.]\n",
            "  [238.]\n",
            "  ...\n",
            "  [199.]\n",
            "  [200.]\n",
            "  [200.]]\n",
            "\n",
            " [[237.]\n",
            "  [238.]\n",
            "  [240.]\n",
            "  ...\n",
            "  [187.]\n",
            "  [194.]\n",
            "  [195.]]\n",
            "\n",
            " [[237.]\n",
            "  [238.]\n",
            "  [240.]\n",
            "  ...\n",
            "  [196.]\n",
            "  [193.]\n",
            "  [194.]]\n",
            "\n",
            " ...\n",
            "\n",
            " [[236.]\n",
            "  [235.]\n",
            "  [235.]\n",
            "  ...\n",
            "  [152.]\n",
            "  [151.]\n",
            "  [152.]]\n",
            "\n",
            " [[236.]\n",
            "  [236.]\n",
            "  [235.]\n",
            "  ...\n",
            "  [152.]\n",
            "  [151.]\n",
            "  [152.]]\n",
            "\n",
            " [[235.]\n",
            "  [235.]\n",
            "  [234.]\n",
            "  ...\n",
            "  [151.]\n",
            "  [151.]\n",
            "  [152.]]]\n"
          ],
          "name": "stdout"
        }
      ]
    },
    {
      "cell_type": "code",
      "metadata": {
        "colab": {
          "base_uri": "https://localhost:8080/"
        },
        "id": "NMp2c1jpnmag",
        "outputId": "e4a84f8b-0d24-47b9-e640-8cd5b4762e7a"
      },
      "source": [
        "# loading entire images dataset\n",
        "import tensorflow as tf\n",
        "train_dataset = tf.keras.preprocessing.image_dataset_from_directory(\n",
        "    '/content/Face Mask Dataset/Train',\n",
        "    labels=\"inferred\",\n",
        "    label_mode=\"binary\",\n",
        "    class_names=None,\n",
        "    color_mode=\"rgb\",\n",
        "    batch_size=1,\n",
        "    image_size=(64, 64),\n",
        "    shuffle=True,\n",
        "    seed=None,\n",
        "    validation_split=None,\n",
        "    subset=None,\n",
        "    interpolation=\"bilinear\",\n",
        "    follow_links=False,\n",
        ")\n",
        "print(type(train_dataset))"
      ],
      "execution_count": 34,
      "outputs": [
        {
          "output_type": "stream",
          "text": [
            "Found 10000 files belonging to 2 classes.\n",
            "<class 'tensorflow.python.data.ops.dataset_ops.BatchDataset'>\n"
          ],
          "name": "stdout"
        }
      ]
    },
    {
      "cell_type": "code",
      "metadata": {
        "id": "A0Bir2rLxxRx",
        "outputId": "b3b2d0e5-6c76-48b0-83c1-e3ebad2121fd",
        "colab": {
          "base_uri": "https://localhost:8080/"
        }
      },
      "source": [
        "for image, label in train_dataset:\n",
        "  print(image)\n",
        "  print(label)\n",
        "  break"
      ],
      "execution_count": 35,
      "outputs": [
        {
          "output_type": "stream",
          "text": [
            "tf.Tensor(\n",
            "[[[[155.67676    124.23926     74.55371   ]\n",
            "   [160.38672    130.63672     80.74902   ]\n",
            "   [195.2832     164.6582     115.08496   ]\n",
            "   ...\n",
            "   [ 77.725586    52.808594    12.683594  ]\n",
            "   [118.4541      85.51074     46.916992  ]\n",
            "   [155.07227    117.197266    77.041016  ]]\n",
            "\n",
            "  [[148.24121    120.53516     68.49121   ]\n",
            "   [167.97949    139.93066     89.930664  ]\n",
            "   [193.1289     164.94336    114.94336   ]\n",
            "   ...\n",
            "   [102.19043     75.40918     35.660156  ]\n",
            "   [ 88.65918     54.10742     17.083008  ]\n",
            "   [160.21484    121.62793     83.146484  ]]\n",
            "\n",
            "  [[135.38965    108.27539     55.618164  ]\n",
            "   [175.81152    150.09277     97.46777   ]\n",
            "   [193.08984    166.60742    115.84863   ]\n",
            "   ...\n",
            "   [131.44824    102.26074     63.61328   ]\n",
            "   [ 99.33984     63.839844    27.404297  ]\n",
            "   [114.43848     75.65625     38.208984  ]]\n",
            "\n",
            "  ...\n",
            "\n",
            "  [[ 79.66504     40.35254      5.040039  ]\n",
            "   [ 95.28516     59.723633    20.692383  ]\n",
            "   [103.95117     72.65234     33.442383  ]\n",
            "   ...\n",
            "   [ 47.066406    27.548828     3.790039  ]\n",
            "   [ 55.503906    32.50586      7.1953125 ]\n",
            "   [ 65.543945    40.825195    11.387695  ]]\n",
            "\n",
            "  [[ 85.018555    45.549805     5.8310547 ]\n",
            "   [ 98.12891     60.743164    18.479492  ]\n",
            "   [114.40918     83.03418     40.12793   ]\n",
            "   ...\n",
            "   [ 44.5625      25.560547     2.5       ]\n",
            "   [ 51.79883     29.55957      5.90625   ]\n",
            "   [ 60.404297    35.70508      6.692383  ]]\n",
            "\n",
            "  [[ 89.57129     47.773438     6.8066406 ]\n",
            "   [101.024414    62.749023    16.780273  ]\n",
            "   [115.896484    83.51074     37.90625   ]\n",
            "   ...\n",
            "   [ 38.3125      20.3125       0.22851562]\n",
            "   [ 39.53125     17.6875       0.        ]\n",
            "   [ 56.1416      31.547852     5.03125   ]]]], shape=(1, 64, 64, 3), dtype=float32)\n",
            "tf.Tensor([[1.]], shape=(1, 1), dtype=float32)\n"
          ],
          "name": "stdout"
        }
      ]
    },
    {
      "cell_type": "code",
      "metadata": {
        "id": "65EJtO4vtIwD"
      },
      "source": [
        "from keras import Input\n",
        "from keras.layers import Conv2D, Flatten, Dense\n",
        "from keras.models import Model\n",
        "from keras.utils import plot_model\n",
        "def make_model(input_shape):\n",
        "  inputs = Input(shape=input_shape)\n",
        "  x = Conv2D(\n",
        "      filters=2,\n",
        "      kernel_size=3,\n",
        "      strides=(1, 1),\n",
        "      padding=\"valid\",\n",
        "      data_format=None,\n",
        "      dilation_rate=(1, 1),\n",
        "      groups=1,\n",
        "      activation='relu',\n",
        "      use_bias=True,\n",
        "      kernel_initializer=\"glorot_uniform\",\n",
        "      bias_initializer=\"zeros\",\n",
        "      kernel_regularizer=None,\n",
        "      bias_regularizer=None,\n",
        "      activity_regularizer=None,\n",
        "      kernel_constraint=None,\n",
        "      bias_constraint=None,\n",
        "  )(inputs)\n",
        "  x = Flatten()(x)\n",
        "  outputs = Dense(\n",
        "      1,\n",
        "      activation='sigmoid',\n",
        "      use_bias=True,\n",
        "      kernel_initializer=\"glorot_uniform\",\n",
        "      bias_initializer=\"zeros\",\n",
        "      kernel_regularizer=None,\n",
        "      bias_regularizer=None,\n",
        "      activity_regularizer=None,\n",
        "      kernel_constraint=None,\n",
        "      bias_constraint=None,\n",
        "  )(x)\n",
        "\n",
        "  model = Model(inputs=inputs, outputs=outputs)\n",
        "  model.summary()\n",
        "  plot_model(model, to_file='model_basic.png')\n",
        "  return model"
      ],
      "execution_count": 53,
      "outputs": []
    },
    {
      "cell_type": "code",
      "metadata": {
        "id": "ScLL8ySnCW2q",
        "outputId": "e00410d1-0faf-417f-a8fb-e74bee0582e7",
        "colab": {
          "base_uri": "https://localhost:8080/"
        }
      },
      "source": [
        "model = make_model((64, 64, 3))\n",
        "model.compile(loss='binary_crossentropy', optimizer='adam')\n",
        "model.fit(train_dataset, epochs=10, steps_per_epoch=1, verbose=1)"
      ],
      "execution_count": 54,
      "outputs": [
        {
          "output_type": "stream",
          "text": [
            "Model: \"model_9\"\n",
            "_________________________________________________________________\n",
            "Layer (type)                 Output Shape              Param #   \n",
            "=================================================================\n",
            "input_10 (InputLayer)        [(None, 64, 64, 3)]       0         \n",
            "_________________________________________________________________\n",
            "conv2d_9 (Conv2D)            (None, 62, 62, 2)         56        \n",
            "_________________________________________________________________\n",
            "flatten_9 (Flatten)          (None, 7688)              0         \n",
            "_________________________________________________________________\n",
            "dense_9 (Dense)              (None, 1)                 7689      \n",
            "=================================================================\n",
            "Total params: 7,745\n",
            "Trainable params: 7,745\n",
            "Non-trainable params: 0\n",
            "_________________________________________________________________\n",
            "Epoch 1/10\n",
            "1/1 [==============================] - 0s 366ms/step - loss: 1.0013e-25\n",
            "Epoch 2/10\n",
            "1/1 [==============================] - 0s 9ms/step - loss: 0.0000e+00\n",
            "Epoch 3/10\n",
            "1/1 [==============================] - 0s 10ms/step - loss: 0.0000e+00\n",
            "Epoch 4/10\n",
            "1/1 [==============================] - 0s 8ms/step - loss: 1.3279e-13\n",
            "Epoch 5/10\n",
            "1/1 [==============================] - 0s 8ms/step - loss: 0.0209\n",
            "Epoch 6/10\n",
            "1/1 [==============================] - 0s 7ms/step - loss: 0.0000e+00\n",
            "Epoch 7/10\n",
            "1/1 [==============================] - 0s 6ms/step - loss: 679.1632\n",
            "Epoch 8/10\n",
            "1/1 [==============================] - 0s 7ms/step - loss: 0.0000e+00\n",
            "Epoch 9/10\n",
            "1/1 [==============================] - 0s 7ms/step - loss: 4.6058e-37\n",
            "Epoch 10/10\n",
            "1/1 [==============================] - 0s 9ms/step - loss: 158.8372\n"
          ],
          "name": "stdout"
        },
        {
          "output_type": "execute_result",
          "data": {
            "text/plain": [
              "<tensorflow.python.keras.callbacks.History at 0x7f5c536bec18>"
            ]
          },
          "metadata": {
            "tags": []
          },
          "execution_count": 54
        }
      ]
    },
    {
      "cell_type": "code",
      "metadata": {
        "id": "O4irxDZkO69k"
      },
      "source": [
        "test_images_with_mask_path = '/content/Face Mask Dataset/Test/WithMask/'\n",
        "test_images_without_mask_path = '/content/Face Mask Dataset/Test/WithoutMask/'"
      ],
      "execution_count": 55,
      "outputs": []
    },
    {
      "cell_type": "code",
      "metadata": {
        "id": "2PaG-BxXG_te",
        "outputId": "c92c1766-a60f-457d-a94a-ca79305fa3ed",
        "colab": {
          "base_uri": "https://localhost:8080/"
        }
      },
      "source": [
        "image = load_img(test_images_with_mask_path+'1163'+'.png', color_mode=\"rgb\", target_size=(64, 64), interpolation=\"nearest\")\n",
        "image_vec = img_to_array(image)\n",
        "image_vec = np.expand_dims(image_vec, axis=0)\n",
        "print(image_vec.shape)"
      ],
      "execution_count": 64,
      "outputs": [
        {
          "output_type": "stream",
          "text": [
            "(1, 64, 64, 3)\n"
          ],
          "name": "stdout"
        }
      ]
    },
    {
      "cell_type": "code",
      "metadata": {
        "id": "6tf_B5iMO0es",
        "outputId": "f0498c92-50b1-4dcb-e5a7-d074243dc219",
        "colab": {
          "base_uri": "https://localhost:8080/"
        }
      },
      "source": [
        "yhat = model.predict([image_vec], verbose=1)\n",
        "print(yhat)"
      ],
      "execution_count": 65,
      "outputs": [
        {
          "output_type": "stream",
          "text": [
            "1/1 [==============================] - 0s 46ms/step\n",
            "[[1.]]\n"
          ],
          "name": "stdout"
        }
      ]
    },
    {
      "cell_type": "code",
      "metadata": {
        "id": "Xa5wmDehPYKj"
      },
      "source": [
        ""
      ],
      "execution_count": null,
      "outputs": []
    }
  ]
}