{
  "nbformat": 4,
  "nbformat_minor": 0,
  "metadata": {
    "colab": {
      "name": "Copy of basic.ipynb",
      "provenance": [],
      "collapsed_sections": [],
      "include_colab_link": true
    },
    "kernelspec": {
      "name": "python3",
      "display_name": "Python 3"
    }
  },
  "cells": [
    {
      "cell_type": "markdown",
      "metadata": {
        "id": "view-in-github",
        "colab_type": "text"
      },
      "source": [
        "<a href=\"https://colab.research.google.com/github/vipul43/project_MASK/blob/main/basic.ipynb\" target=\"_parent\"><img src=\"https://colab.research.google.com/assets/colab-badge.svg\" alt=\"Open In Colab\"/></a>"
      ]
    },
    {
      "cell_type": "code",
      "metadata": {
        "id": "Hv-Nt1N5YOGC"
      },
      "source": [
        "# importing dataset from kaggle\n",
        "!pip install -q kaggle &> /dev/null\n",
        "!mkdir ~/.kaggle &> /dev/null\n",
        "!echo '{\"username\":\"saivipul\",\"key\":\"f4e9e153799bf7289426d9655d02fdca\"}' > ~/.kaggle/kaggle.json\n",
        "!chmod 600 ~/.kaggle/kaggle.json &> /dev/null\n",
        "# enter dataset API command below\n",
        "!kaggle datasets download -d ashishjangra27/face-mask-12k-images-dataset &> /dev/null\n",
        "!unzip face-mask-12k-images-dataset.zip &> /dev/null\n",
        "!rm -rf face-mask-12k-images-dataset.zip &> /dev/null\n",
        "\n",
        "# dataset is stored in 'Face Mask Dataset' folder"
      ],
      "execution_count": null,
      "outputs": []
    },
    {
      "cell_type": "code",
      "metadata": {
        "id": "OdNqnIK5evdc"
      },
      "source": [
        "# Paths\n",
        "# train images paths\n",
        "train_images_with_mask_path = '/content/Face Mask Dataset/Train/WithMask/'\n",
        "train_images_without_mask_path = '/content/Face Mask Dataset/Validation/WithoutMask/'\n",
        "# dev images paths\n",
        "dev_images_with_mask_path = '/content/Face Mask Dataset/Validation/WithMask/'\n",
        "dev_images_without_mask_path = '/content/Face Mask Dataset/Validation/WithoutMask/'\n",
        "# test images paths\n",
        "test_images_with_mask_path = '/content/Face Mask Dataset/Test/WithMask/'\n",
        "test_images_without_mask_path = '/content/Face Mask Dataset/Test/WithoutMask/'"
      ],
      "execution_count": null,
      "outputs": []
    },
    {
      "cell_type": "code",
      "metadata": {
        "colab": {
          "base_uri": "https://localhost:8080/"
        },
        "id": "NMp2c1jpnmag",
        "outputId": "524888a7-147c-48f7-e5f5-20b3fed5b001"
      },
      "source": [
        "# loading entire images dataset\n",
        "# label 0: WithMask\n",
        "# label 1: WithoutMask\n",
        "batch_size = 1\n",
        "\n",
        "import numpy as np\n",
        "from keras.preprocessing.image import load_img, img_to_array, array_to_img\n",
        "import tensorflow as tf\n",
        "\n",
        "# loading train images dataset\n",
        "train_dataset = tf.keras.preprocessing.image_dataset_from_directory(\n",
        "    '/content/Face Mask Dataset/Train',\n",
        "    labels=\"inferred\",\n",
        "    label_mode=\"binary\",\n",
        "    class_names=None,\n",
        "    color_mode=\"grayscale\",\n",
        "    batch_size=batch_size,\n",
        "    image_size=(64, 64),\n",
        "    shuffle=True,\n",
        "    seed=None,\n",
        "    validation_split=None,\n",
        "    subset=None,\n",
        "    interpolation=\"bilinear\",\n",
        "    follow_links=False,\n",
        ")\n",
        "print(type(train_dataset))\n",
        "\n",
        "# loading validation images dataset\n",
        "dev_dataset = tf.keras.preprocessing.image_dataset_from_directory(\n",
        "    '/content/Face Mask Dataset/Validation',\n",
        "    labels=\"inferred\",\n",
        "    label_mode=\"binary\",\n",
        "    class_names=None,\n",
        "    color_mode=\"grayscale\",\n",
        "    batch_size=batch_size,\n",
        "    image_size=(64, 64),\n",
        "    shuffle=True,\n",
        "    seed=None,\n",
        "    validation_split=None,\n",
        "    subset=None,\n",
        "    interpolation=\"bilinear\",\n",
        "    follow_links=False,\n",
        ")\n",
        "print(type(test_dataset))\n",
        "\n",
        "# format of data in the dataset\n",
        "# for image, label in train_dataset:\n",
        "#   print(image)\n",
        "#   print(label)\n",
        "#   break"
      ],
      "execution_count": null,
      "outputs": [
        {
          "output_type": "stream",
          "text": [
            "Found 10000 files belonging to 2 classes.\n",
            "<class 'tensorflow.python.data.ops.dataset_ops.BatchDataset'>\n",
            "Found 800 files belonging to 2 classes.\n",
            "<class 'tensorflow.python.data.ops.dataset_ops.BatchDataset'>\n"
          ],
          "name": "stdout"
        }
      ]
    },
    {
      "cell_type": "code",
      "metadata": {
        "id": "65EJtO4vtIwD"
      },
      "source": [
        "# MODEL IS HERE!!!\n",
        "\n",
        "from keras import Input\n",
        "from keras.layers import Conv2D, Flatten, Dense\n",
        "from keras.models import Model\n",
        "from keras.utils import plot_model\n",
        "\n",
        "def make_model(input_shape):\n",
        "  inputs = Input(shape=input_shape)\n",
        "  x = Conv2D(\n",
        "      filters=2,\n",
        "      kernel_size=4,\n",
        "      strides=(1, 1),\n",
        "      padding=\"valid\",\n",
        "      data_format=None,\n",
        "      dilation_rate=(1, 1),\n",
        "      groups=1,\n",
        "      activation='relu',\n",
        "      use_bias=True,\n",
        "      kernel_initializer=\"glorot_uniform\",\n",
        "      bias_initializer=\"zeros\",\n",
        "      kernel_regularizer=None,\n",
        "      bias_regularizer=None,\n",
        "      activity_regularizer=None,\n",
        "      kernel_constraint=None,\n",
        "      bias_constraint=None,\n",
        "  )(inputs)\n",
        "  x = Flatten()(x)\n",
        "  x = Dense(\n",
        "      256,\n",
        "      activation='relu',\n",
        "      use_bias=True,\n",
        "      kernel_initializer=\"glorot_uniform\",\n",
        "      bias_initializer=\"zeros\",\n",
        "      kernel_regularizer=None,\n",
        "      bias_regularizer=None,\n",
        "      activity_regularizer=None,\n",
        "      kernel_constraint=None,\n",
        "      bias_constraint=None,\n",
        "  )(x)\n",
        "  outputs = Dense(\n",
        "      1,\n",
        "      activation='sigmoid',\n",
        "      use_bias=True,\n",
        "      kernel_initializer=\"glorot_uniform\",\n",
        "      bias_initializer=\"zeros\",\n",
        "      kernel_regularizer=None,\n",
        "      bias_regularizer=None,\n",
        "      activity_regularizer=None,\n",
        "      kernel_constraint=None,\n",
        "      bias_constraint=None,\n",
        "  )(x)\n",
        "\n",
        "  model = Model(inputs=inputs, outputs=outputs)\n",
        "  model.summary()\n",
        "  plot_model(model, to_file='model_basic_with_additional_dense.png')\n",
        "  return model"
      ],
      "execution_count": null,
      "outputs": []
    },
    {
      "cell_type": "code",
      "metadata": {
        "id": "ScLL8ySnCW2q",
        "colab": {
          "base_uri": "https://localhost:8080/"
        },
        "outputId": "02d083c1-8da6-4e5d-d681-0e28393a8a8e"
      },
      "source": [
        "# Getting model and training\n",
        "import keras.backend as K\n",
        "\n",
        "model = make_model((64, 64, 1))\n",
        "model.compile(loss='binary_crossentropy', optimizer='adam', metrics=['accuracy'])\n",
        "K.set_value(model.optimizer.lr, 0.001) # tweaking hyperparameter\n",
        "model.fit(train_dataset, epochs=10, steps_per_epoch=len(train_dataset)//batch_size, verbose=1)"
      ],
      "execution_count": null,
      "outputs": [
        {
          "output_type": "stream",
          "text": [
            "Model: \"model_8\"\n",
            "_________________________________________________________________\n",
            "Layer (type)                 Output Shape              Param #   \n",
            "=================================================================\n",
            "input_9 (InputLayer)         [(None, 64, 64, 1)]       0         \n",
            "_________________________________________________________________\n",
            "conv2d_8 (Conv2D)            (None, 61, 61, 2)         34        \n",
            "_________________________________________________________________\n",
            "flatten_8 (Flatten)          (None, 7442)              0         \n",
            "_________________________________________________________________\n",
            "dense_16 (Dense)             (None, 256)               1905408   \n",
            "_________________________________________________________________\n",
            "dense_17 (Dense)             (None, 1)                 257       \n",
            "=================================================================\n",
            "Total params: 1,905,699\n",
            "Trainable params: 1,905,699\n",
            "Non-trainable params: 0\n",
            "_________________________________________________________________\n",
            "Epoch 1/10\n",
            "10000/10000 [==============================] - 89s 9ms/step - loss: 3.1231 - accuracy: 0.8102\n",
            "Epoch 2/10\n",
            "10000/10000 [==============================] - 89s 9ms/step - loss: 0.4121 - accuracy: 0.8496\n",
            "Epoch 3/10\n",
            "10000/10000 [==============================] - 89s 9ms/step - loss: 0.3586 - accuracy: 0.8641\n",
            "Epoch 4/10\n",
            "10000/10000 [==============================] - 90s 9ms/step - loss: 0.3853 - accuracy: 0.8610\n",
            "Epoch 5/10\n",
            "10000/10000 [==============================] - 88s 9ms/step - loss: 0.2793 - accuracy: 0.8921\n",
            "Epoch 6/10\n",
            "10000/10000 [==============================] - 89s 9ms/step - loss: 0.3756 - accuracy: 0.8459\n",
            "Epoch 7/10\n",
            "10000/10000 [==============================] - 89s 9ms/step - loss: 0.2919 - accuracy: 0.8898\n",
            "Epoch 8/10\n",
            "10000/10000 [==============================] - 89s 9ms/step - loss: 0.2267 - accuracy: 0.9182\n",
            "Epoch 9/10\n",
            "10000/10000 [==============================] - 89s 9ms/step - loss: 0.1944 - accuracy: 0.9450\n",
            "Epoch 10/10\n",
            "10000/10000 [==============================] - 89s 9ms/step - loss: 0.2125 - accuracy: 0.9570\n"
          ],
          "name": "stdout"
        },
        {
          "output_type": "execute_result",
          "data": {
            "text/plain": [
              "<tensorflow.python.keras.callbacks.History at 0x7f5f474bafd0>"
            ]
          },
          "metadata": {
            "tags": []
          },
          "execution_count": 68
        }
      ]
    },
    {
      "cell_type": "code",
      "metadata": {
        "id": "2PaG-BxXG_te",
        "colab": {
          "base_uri": "https://localhost:8080/"
        },
        "outputId": "9bed9769-6da7-43e3-e9be-a7217c1f04e1"
      },
      "source": [
        "# Making predictions - one at a time\n",
        "\n",
        "image = load_img(dev_images_with_mask_path+'1002'+'.png', color_mode=\"grayscale\", target_size=(64, 64), interpolation=\"nearest\")\n",
        "image_vec = img_to_array(image)\n",
        "image_vec = np.expand_dims(image_vec, axis=0)\n",
        "print(image_vec.shape)\n",
        "\n",
        "yhat = model.predict([image_vec], verbose=1)\n",
        "print(yhat)"
      ],
      "execution_count": null,
      "outputs": [
        {
          "output_type": "stream",
          "text": [
            "(1, 64, 64, 1)\n",
            "1/1 [==============================] - 0s 51ms/step\n",
            "[[4.1908872e-12]]\n"
          ],
          "name": "stdout"
        }
      ]
    },
    {
      "cell_type": "code",
      "metadata": {
        "id": "Xa5wmDehPYKj"
      },
      "source": [
        "# Making predictions - all at a time\n",
        "# More accurate metrics - error\n",
        "\n",
        "def getError(model):\n",
        "  error = 0\n",
        "  for image, label in dev_dataset:\n",
        "    image_ = image[0]\n",
        "    # display(array_to_img(image_))\n",
        "    # print(label)\n",
        "    prediction = model.predict([image], verbose=0)\n",
        "    # print(prediction)\n",
        "    if(label!=prediction):\n",
        "      error+=1\n",
        "  error/=len(dev_dataset)\n",
        "  return (error)"
      ],
      "execution_count": null,
      "outputs": []
    },
    {
      "cell_type": "code",
      "metadata": {
        "colab": {
          "base_uri": "https://localhost:8080/"
        },
        "id": "4ubh0jt-xp0O",
        "outputId": "b3d11787-171f-4b79-d957-6e30f1e515e4"
      },
      "source": [
        "getError(model)"
      ],
      "execution_count": null,
      "outputs": [
        {
          "output_type": "execute_result",
          "data": {
            "text/plain": [
              "0.4975"
            ]
          },
          "metadata": {
            "tags": []
          },
          "execution_count": 63
        }
      ]
    },
    {
      "cell_type": "code",
      "metadata": {
        "id": "T2Q9BNucxsA6"
      },
      "source": [
        ""
      ],
      "execution_count": null,
      "outputs": []
    }
  ]
}