{
  "nbformat": 4,
  "nbformat_minor": 0,
  "metadata": {
    "colab": {
      "name": "basic.ipynb",
      "provenance": [],
      "collapsed_sections": [],
      "include_colab_link": true
    },
    "kernelspec": {
      "name": "python3",
      "display_name": "Python 3"
    }
  },
  "cells": [
    {
      "cell_type": "markdown",
      "metadata": {
        "id": "view-in-github",
        "colab_type": "text"
      },
      "source": [
        "<a href=\"https://colab.research.google.com/github/vipul43/project_MASK/blob/main/basic.ipynb\" target=\"_parent\"><img src=\"https://colab.research.google.com/assets/colab-badge.svg\" alt=\"Open In Colab\"/></a>"
      ]
    },
    {
      "cell_type": "code",
      "metadata": {
        "id": "Hv-Nt1N5YOGC"
      },
      "source": [
        "# importing dataset from kaggle\n",
        "!pip install -q kaggle &> /dev/null\n",
        "!mkdir ~/.kaggle &> /dev/null\n",
        "!echo '{\"username\":\"saivipul\",\"key\":\"f4e9e153799bf7289426d9655d02fdca\"}' > ~/.kaggle/kaggle.json\n",
        "!chmod 600 ~/.kaggle/kaggle.json &> /dev/null\n",
        "# enter dataset API command below\n",
        "!kaggle datasets download -d ashishjangra27/face-mask-12k-images-dataset &> /dev/null\n",
        "!unzip face-mask-12k-images-dataset.zip &> /dev/null\n",
        "!rm -rf face-mask-12k-images-dataset.zip &> /dev/null\n",
        "\n",
        "# dataset is stored in Face\\ Mask\\ Dataset folder"
      ],
      "execution_count": 19,
      "outputs": []
    }
  ]
}