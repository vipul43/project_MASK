{
  "nbformat": 4,
  "nbformat_minor": 0,
  "metadata": {
    "colab": {
      "name": "basic.ipynb",
      "provenance": [],
      "collapsed_sections": [],
      "include_colab_link": true
    },
    "kernelspec": {
      "name": "python3",
      "display_name": "Python 3"
    }
  },
  "cells": [
    {
      "cell_type": "markdown",
      "metadata": {
        "id": "view-in-github",
        "colab_type": "text"
      },
      "source": [
        "<a href=\"https://colab.research.google.com/github/vipul43/project_MASK/blob/main/basic.ipynb\" target=\"_parent\"><img src=\"https://colab.research.google.com/assets/colab-badge.svg\" alt=\"Open In Colab\"/></a>"
      ]
    },
    {
      "cell_type": "code",
      "metadata": {
        "id": "Hv-Nt1N5YOGC"
      },
      "source": [
        "# importing dataset from kaggle\n",
        "!pip install -q kaggle &> /dev/null\n",
        "!mkdir ~/.kaggle &> /dev/null\n",
        "!echo '{\"username\":\"saivipul\",\"key\":\"f4e9e153799bf7289426d9655d02fdca\"}' > ~/.kaggle/kaggle.json\n",
        "!chmod 600 ~/.kaggle/kaggle.json &> /dev/null\n",
        "# enter dataset API command below\n",
        "!kaggle datasets download -d ashishjangra27/face-mask-12k-images-dataset &> /dev/null\n",
        "!unzip face-mask-12k-images-dataset.zip &> /dev/null\n",
        "!rm -rf face-mask-12k-images-dataset.zip &> /dev/null\n",
        "\n",
        "# dataset is stored in Face\\ Mask\\ Dataset folder"
      ],
      "execution_count": 19,
      "outputs": []
    },
    {
      "cell_type": "code",
      "metadata": {
        "id": "OdNqnIK5evdc"
      },
      "source": [
        "train_images_with_mask_path = '/content/Face Mask Dataset/Train/WithMask/'\n",
        "train_images_without_mask_path = '/content/Face Mask Dataset/Train/WithoutMask/'"
      ],
      "execution_count": 32,
      "outputs": []
    },
    {
      "cell_type": "code",
      "metadata": {
        "colab": {
          "base_uri": "https://localhost:8080/",
          "height": 168
        },
        "id": "GHY3n4gXe9bs",
        "outputId": "2e18db1a-e903-4a28-e247-ae7eebca3926"
      },
      "source": [
        "# playing around with data\n",
        "from PIL import Image\n",
        "image = Image.open(train_images_with_mask_path+'10'+'.png', 'r')\n",
        "display(image)\n",
        "print(image.format)\n",
        "print(image.size)\n",
        "print(image.mode)\n",
        "print('label: WithMask')"
      ],
      "execution_count": 54,
      "outputs": [
        {
          "output_type": "display_data",
          "data": {
            "image/png": "[encoded data removed]",
            "text/plain": [
              "<PIL.PngImagePlugin.PngImageFile image mode=RGB size=82x82 at 0x7FA5E0EBF048>"
            ]
          },
          "metadata": {
            "tags": []
          }
        },
        {
          "output_type": "stream",
          "text": [
            "PNG\n",
            "(82, 82)\n",
            "RGB\n",
            "label: WithMask\n"
          ],
          "name": "stdout"
        }
      ]
    },
    {
      "cell_type": "code",
      "metadata": {
        "id": "HTAC5ypqe-eR"
      },
      "source": [
        ""
      ],
      "execution_count": null,
      "outputs": []
    }
  ]
}